{
  "nbformat": 4,
  "nbformat_minor": 0,
  "metadata": {
    "colab": {
      "name": "Qassida.ipynb",
      "provenance": []
    },
    "kernelspec": {
      "name": "python3",
      "display_name": "Python 3"
    },
    "language_info": {
      "name": "python"
    }
  },
  "cells": [
    {
      "cell_type": "markdown",
      "source": [
        "# Qassida : un générateur de poésie arabe avec LSTM sous Pytorch\n",
        "\n",
        "\n",
        "*   A rédiger : Membres de l'équipe\n",
        "*   Introduction + problématique \n",
        "*   Etapes de la réalistion\n",
        "\n"
      ],
      "metadata": {
        "id": "2zn4yMbbTFMA"
      }
    },
    {
      "cell_type": "markdown",
      "source": [
        "### Import des librairies :     \n",
        "Nous commençons par l'import des librairies dont nous aurons besoin pour pouvoir implémenter notre solution\n",
        "> * NumPy pour la gestion des calculs matriciels et vectoriels\n",
        "> * PyTorch permet d'effectuer les calculs tensoriels nécessaires notamment pour l'apprentissage profond\n",
        "> * Beautiful Soup pour le web scraping et la génération du dataset  "
      ],
      "metadata": {
        "id": "TkNPr3NnTx2u"
      }
    },
    {
      "cell_type": "markdown",
      "source": [
        ""
      ],
      "metadata": {
        "id": "V6xW5h-yjuIL"
      }
    },
    {
      "cell_type": "markdown",
      "source": [
        ""
      ],
      "metadata": {
        "id": "waNdRvZhisqb"
      }
    }
  ]
}